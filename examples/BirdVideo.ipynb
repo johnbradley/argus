{
 "cells": [
  {
   "cell_type": "markdown",
   "id": "c33f915b-fc4f-47bb-8d1d-e3ee16c1878a",
   "metadata": {},
   "source": [
    "# Argus Bird Video Demo\n",
    "The goal of this demo is to download a movie and extract clips containing birds.\n",
    "\n",
    "The code below will\n",
    "- download a short movie of a bird house\n",
    "- extract sample images\n",
    "- allow you to mark the images as good(has bird) or bad(no bird)\n",
    "- find clips of the video that are 'good'\n",
    "- extract clips\n"
   ]
  },
  {
   "cell_type": "code",
   "execution_count": null,
   "id": "f7a74562-60b4-4a5e-b9df-aba144beb375",
   "metadata": {},
   "outputs": [],
   "source": [
    "!pip install git+https://github.com/johnbradley/argus"
   ]
  },
  {
   "cell_type": "code",
   "execution_count": null,
   "id": "a73aacb4-6ff9-4217-a878-2a6c2bee3b22",
   "metadata": {},
   "outputs": [],
   "source": [
    "import os\n",
    "import shutil\n",
    "from IPython.display import display, HTML, Video, Image\n",
    "from base64 import b64encode\n",
    "from argus.core import ModelConfig, extract_sample_images, predict_frames, find_clips, extract_clips"
   ]
  },
  {
   "cell_type": "markdown",
   "id": "06e8ad39-e597-4a58-a729-1726c8af8354",
   "metadata": {},
   "source": [
    "## Settings"
   ]
  },
  {
   "cell_type": "code",
   "execution_count": null,
   "id": "345c682c-a072-47ca-a6f3-bb99643a1508",
   "metadata": {},
   "outputs": [],
   "source": [
    "# Use the BioCLIP model to create image embeddings\n",
    "MODEL_CONFIG = ModelConfig(model_name='hf-hub:imageomics/bioclip')\n",
    "# Alternative model\n",
    "# MODEL_CONFIG = ModelConfig(model_name='ViT-B-32', pretrained='laion2b_s34b_b79k')\n",
    "\n",
    "# Use bird movie that is part of https://doi.org/10.6084/m9.figshare.4530839.v1 \n",
    "BIRD_MOVIE_URL = 'https://figshare.com/ndownloader/files/7336436'\n",
    "BIRD_MOVIE_PATH = '7336436.mov'\n",
    "ALL_MOVIE_PATHS = [BIRD_MOVIE_PATH]\n",
    "\n",
    "# Settings for saving sample images\n",
    "SAMPLE_DIR = 'birdsamples' # directory to save sample images from the movie\n",
    "SAMPLE_SECONDS_INTERVAL = 5.0 # seconds to wait between each sample image\n",
    "MAX_SAMPLES = None # do not limit the number of sample images\n",
    "\n",
    "# Settings for predicting 'good' or 'bad' movie frames\n",
    "FRAME_WAIT_SECONDS = 0.5\n",
    "PREDICTIONS_PATH = \"birdframes.csv\"\n",
    "PREDICTIONS_REPORT_PATH = \"birdframes.html\"\n",
    "PREDICTIONS_INTERVALS = 2 # record every 2nd prediction for review in the report\n",
    "\n",
    "# Settings for clips based on frame predictions\n",
    "CLIPS_PATH = \"birdclips.csv\"\n",
    "CLIPS_REPORT_PATH = \"birdclips.html\"\n",
    "CLIPS_DIR = \"clips\""
   ]
  },
  {
   "cell_type": "markdown",
   "id": "e4726c01-5967-4ef4-a300-3f6eefe60cc1",
   "metadata": {},
   "source": [
    "## Download the bird movie"
   ]
  },
  {
   "cell_type": "code",
   "execution_count": null,
   "id": "247d1ff4-d4b8-4344-b765-50af9aceed3e",
   "metadata": {},
   "outputs": [],
   "source": [
    "if not os.path.exists(BIRD_MOVIE_PATH):\n",
    "    !wget --output-document=$BIRD_MOVIE_PATH $BIRD_MOVIE_URL\n",
    "else:\n",
    "    print(\"Skipping download since file already exists.\")"
   ]
  },
  {
   "cell_type": "code",
   "execution_count": null,
   "id": "21e932cd-f949-4084-9558-d979553facd4",
   "metadata": {},
   "outputs": [],
   "source": [
    "def display_video_player(video_path):\n",
    "    display(Video(url=video_path, width=400))"
   ]
  },
  {
   "cell_type": "code",
   "execution_count": null,
   "id": "cab42214-9d3b-4471-af66-b106177c4b1b",
   "metadata": {},
   "outputs": [],
   "source": [
    "display_video_player(BIRD_MOVIE_PATH)"
   ]
  },
  {
   "cell_type": "markdown",
   "id": "0ec0465a-4ba3-47d7-a1d0-7d734e4418e3",
   "metadata": {},
   "source": [
    "## Extract sample images"
   ]
  },
  {
   "cell_type": "code",
   "execution_count": null,
   "id": "f546364e-8d1d-401a-93bc-450816870fdc",
   "metadata": {},
   "outputs": [],
   "source": [
    "extract_sample_images(sample_dir=SAMPLE_DIR,\n",
    "                      video_path=BIRD_MOVIE_PATH,\n",
    "                      seconds_interval = SAMPLE_SECONDS_INTERVAL,\n",
    "                      max_samples = MAX_SAMPLES)"
   ]
  },
  {
   "cell_type": "markdown",
   "id": "2e8e52a8-4399-45ae-803d-fe27dffe382a",
   "metadata": {},
   "source": [
    "# STOP\n",
    "Typically you would stop here, look at some sample images, and manually move images from the 'birdsamples' directory into the 'good' and 'bad' subdirectories. For the demo we will manually copy the files creating a structure as follows.\n",
    "```\n",
    "birdsamples/\n",
    "   good/\n",
    "     1.png\n",
    "   bad/\n",
    "     0.png\n",
    "     3.png\n",
    "...\n",
    "```\n",
    "\n",
    "Typically you will want more examples than this in the 'good' and 'bad' subdirectories."
   ]
  },
  {
   "cell_type": "code",
   "execution_count": null,
   "id": "4953de24-b678-40f7-b243-941574c9d3f4",
   "metadata": {},
   "outputs": [],
   "source": [
    "# Move images simulating what a user would do manually\n",
    "good_filenames = [\"1.png\"] # has bird\n",
    "bad_filenames = [\"0.png\",\"3.png\"] # no bird\n",
    "print(\"Good\")\n",
    "for good_filename in good_filenames:\n",
    "    shutil.copyfile(f\"birdsamples/{good_filename}\", f\"birdsamples/good/{good_filename}\")\n",
    "    display(Image(f\"birdsamples/good/{good_filename}\", width=400))\n",
    "print(\"Bad\")    \n",
    "for bad_filename in bad_filenames:\n",
    "    shutil.copyfile(f\"birdsamples/{bad_filename}\", f\"birdsamples/bad/{bad_filename}\")\n",
    "    display(Image(f\"birdsamples/bad/{bad_filename}\", width=400))"
   ]
  },
  {
   "cell_type": "markdown",
   "id": "abeba97a-8c94-4282-a770-c4c63e03bd38",
   "metadata": {},
   "source": [
    "## Predict frames based on sample images"
   ]
  },
  {
   "cell_type": "code",
   "execution_count": null,
   "id": "adc68745-a9a5-4f87-bfa3-d5734ad58300",
   "metadata": {},
   "outputs": [],
   "source": [
    "predictions = predict_frames(\n",
    "    sample_dir=SAMPLE_DIR,\n",
    "    video_paths=ALL_MOVIE_PATHS,\n",
    "    model_config=MODEL_CONFIG,\n",
    "    frame_wait_seconds=FRAME_WAIT_SECONDS,\n",
    "    report_path=PREDICTIONS_REPORT_PATH,\n",
    "    report_interval=PREDICTIONS_INTERVALS)\n",
    "predictions.to_csv(PREDICTIONS_PATH, index=False)\n",
    "predictions"
   ]
  },
  {
   "cell_type": "markdown",
   "id": "9ec59ed6-3f4e-4c07-aaef-66f60269e57e",
   "metadata": {},
   "source": [
    "## Show Predictions report link"
   ]
  },
  {
   "cell_type": "code",
   "execution_count": null,
   "id": "0d8e28dd-83ff-438d-a2bb-bf9dd0c173f0",
   "metadata": {},
   "outputs": [],
   "source": [
    "print()\n",
    "display(HTML(f'<a href=\"{PREDICTIONS_REPORT_PATH}\"><b>Click here to view Predictions Report</b></a>'))\n",
    "print()"
   ]
  },
  {
   "cell_type": "markdown",
   "id": "84180759-7f45-4e41-b670-80c4ff095a1a",
   "metadata": {},
   "source": [
    "## Merge sequential frames together into clips"
   ]
  },
  {
   "cell_type": "code",
   "execution_count": null,
   "id": "7df223b3-364f-4140-a668-f1de30cb292b",
   "metadata": {},
   "outputs": [],
   "source": [
    "clips_df = find_clips(\n",
    "    predictions=predictions,\n",
    "    report_path=CLIPS_REPORT_PATH)\n",
    "clips_df.to_csv(CLIPS_PATH, index=False)\n",
    "clips_df"
   ]
  },
  {
   "cell_type": "markdown",
   "id": "44019437-20a5-4f69-b8b4-e90e81057805",
   "metadata": {},
   "source": [
    "## Show Clips report link"
   ]
  },
  {
   "cell_type": "code",
   "execution_count": null,
   "id": "727c54e4-a33e-4f8a-8c9b-93079fa59ed4",
   "metadata": {},
   "outputs": [],
   "source": [
    "print()\n",
    "display(HTML(f'<a href=\"{CLIPS_REPORT_PATH}\"><b>Click here to view Clips Report</b></a>'))\n",
    "print()"
   ]
  },
  {
   "cell_type": "markdown",
   "id": "20f7103f-2526-46dd-bdbc-ee5628e70f3c",
   "metadata": {},
   "source": [
    "## Extract movies"
   ]
  },
  {
   "cell_type": "code",
   "execution_count": null,
   "id": "d8a4fba5-42d7-4f8b-b6f1-260801e09c01",
   "metadata": {},
   "outputs": [],
   "source": [
    "clip_paths = extract_clips(clips_df=clips_df, clips_dir=CLIPS_DIR)\n",
    "clip_paths"
   ]
  },
  {
   "cell_type": "code",
   "execution_count": null,
   "id": "e4b1c584-d124-405d-b7f3-bc99875e7e96",
   "metadata": {
    "scrolled": true
   },
   "outputs": [],
   "source": [
    "print(\"\\nOriginal video\")\n",
    "display_video_player(BIRD_MOVIE_PATH)\n",
    "print(\"\\n\\n\")\n",
    "for clip_path in clip_paths:\n",
    "    print(\"Extracted clip\", clip_path)\n",
    "    display_video_player(clip_path)\n",
    "    print(\"\\n\\n\")"
   ]
  },
  {
   "cell_type": "code",
   "execution_count": null,
   "id": "27cc6f59-4f29-4278-979f-7c90380c2ca1",
   "metadata": {},
   "outputs": [],
   "source": []
  },
  {
   "cell_type": "code",
   "execution_count": null,
   "id": "dec9939b-36e2-43dc-848a-1a7e8c9a9bf5",
   "metadata": {},
   "outputs": [],
   "source": []
  },
  {
   "cell_type": "code",
   "execution_count": null,
   "id": "997096cb-9577-4c33-ad6a-a5c3a2f90e22",
   "metadata": {},
   "outputs": [],
   "source": []
  }
 ],
 "metadata": {
  "kernelspec": {
   "display_name": "Python 3 (ipykernel)",
   "language": "python",
   "name": "python3"
  },
  "language_info": {
   "codemirror_mode": {
    "name": "ipython",
    "version": 3
   },
   "file_extension": ".py",
   "mimetype": "text/x-python",
   "name": "python",
   "nbconvert_exporter": "python",
   "pygments_lexer": "ipython3",
   "version": "3.10.13"
  }
 },
 "nbformat": 4,
 "nbformat_minor": 5
}
